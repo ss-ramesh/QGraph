{
 "cells": [
  {
   "cell_type": "code",
   "execution_count": 4,
   "metadata": {},
   "outputs": [
    {
     "ename": "RuntimeError",
     "evalue": "asyncio.run() cannot be called from a running event loop",
     "output_type": "error",
     "traceback": [
      "\u001b[0;31m---------------------------------------------------------------------------\u001b[0m",
      "\u001b[0;31mRuntimeError\u001b[0m                              Traceback (most recent call last)",
      "Cell \u001b[0;32mIn[4], line 5\u001b[0m\n\u001b[1;32m      3\u001b[0m \u001b[38;5;28;01mimport\u001b[39;00m \u001b[38;5;21;01mnetworkx\u001b[39;00m \u001b[38;5;28;01mas\u001b[39;00m \u001b[38;5;21;01mnx\u001b[39;00m\n\u001b[1;32m      4\u001b[0m \u001b[38;5;28;01mimport\u001b[39;00m \u001b[38;5;21;01mtorch\u001b[39;00m\n\u001b[0;32m----> 5\u001b[0m \u001b[38;5;28;01mfrom\u001b[39;00m \u001b[38;5;21;01mmodel\u001b[39;00m \u001b[38;5;28;01mimport\u001b[39;00m FloodDataPipeline, QuantumFloodCircuit, QGraphPredictor\n",
      "File \u001b[0;32m~/Desktop/NASA-BTA-ESTO/src/model.py:470\u001b[0m\n\u001b[1;32m    468\u001b[0m     asyncio\u001b[38;5;241m.\u001b[39mensure_future(main())\n\u001b[1;32m    469\u001b[0m \u001b[38;5;28;01melse\u001b[39;00m:\n\u001b[0;32m--> 470\u001b[0m     asyncio\u001b[38;5;241m.\u001b[39mrun(main())\n",
      "File \u001b[0;32m/opt/anaconda3/lib/python3.11/asyncio/runners.py:186\u001b[0m, in \u001b[0;36mrun\u001b[0;34m(main, debug)\u001b[0m\n\u001b[1;32m    161\u001b[0m \u001b[38;5;250m\u001b[39m\u001b[38;5;124;03m\"\"\"Execute the coroutine and return the result.\u001b[39;00m\n\u001b[1;32m    162\u001b[0m \n\u001b[1;32m    163\u001b[0m \u001b[38;5;124;03mThis function runs the passed coroutine, taking care of\u001b[39;00m\n\u001b[0;32m   (...)\u001b[0m\n\u001b[1;32m    182\u001b[0m \u001b[38;5;124;03m    asyncio.run(main())\u001b[39;00m\n\u001b[1;32m    183\u001b[0m \u001b[38;5;124;03m\"\"\"\u001b[39;00m\n\u001b[1;32m    184\u001b[0m \u001b[38;5;28;01mif\u001b[39;00m events\u001b[38;5;241m.\u001b[39m_get_running_loop() \u001b[38;5;129;01mis\u001b[39;00m \u001b[38;5;129;01mnot\u001b[39;00m \u001b[38;5;28;01mNone\u001b[39;00m:\n\u001b[1;32m    185\u001b[0m     \u001b[38;5;66;03m# fail fast with short traceback\u001b[39;00m\n\u001b[0;32m--> 186\u001b[0m     \u001b[38;5;28;01mraise\u001b[39;00m \u001b[38;5;167;01mRuntimeError\u001b[39;00m(\n\u001b[1;32m    187\u001b[0m         \u001b[38;5;124m\"\u001b[39m\u001b[38;5;124masyncio.run() cannot be called from a running event loop\u001b[39m\u001b[38;5;124m\"\u001b[39m)\n\u001b[1;32m    189\u001b[0m \u001b[38;5;28;01mwith\u001b[39;00m Runner(debug\u001b[38;5;241m=\u001b[39mdebug) \u001b[38;5;28;01mas\u001b[39;00m runner:\n\u001b[1;32m    190\u001b[0m     \u001b[38;5;28;01mreturn\u001b[39;00m runner\u001b[38;5;241m.\u001b[39mrun(main)\n",
      "\u001b[0;31mRuntimeError\u001b[0m: asyncio.run() cannot be called from a running event loop"
     ]
    }
   ],
   "source": [
    "import numpy as np\n",
    "import matplotlib.pyplot as plt\n",
    "import networkx as nx\n",
    "import torch\n",
    "from model import FloodDataPipeline, QuantumFloodCircuit, QGraphPredictor  # Replace with your module import"
   ]
  },
  {
   "cell_type": "code",
   "execution_count": null,
   "metadata": {},
   "outputs": [],
   "source": [
    "# Load real flood data\n",
    "pipeline = FloodDataPipeline()\n",
    "sample_graphs = pipeline.load_flood_data(\"FloodGNN-GRU/train.npz\")\n",
    "sample = sample_graphs[0]"
   ]
  },
  {
   "cell_type": "code",
   "execution_count": null,
   "metadata": {},
   "outputs": [],
   "source": [
    "# Convert to NetworkX graph\n",
    "G = pipeline.to_networkx_graph(sample)\n",
    "pos = nx.spring_layout(G, seed=42)"
   ]
  },
  {
   "cell_type": "code",
   "execution_count": null,
   "metadata": {},
   "outputs": [],
   "source": [
    "# Visualize water depth at selected time points\n",
    "time_points = [0, 5, 10]\n",
    "water_depth = sample.dynamic[:, :, 0].numpy()\n",
    "\n",
    "fig, axes = plt.subplots(1, len(time_points), figsize=(18, 6))\n",
    "for idx, t in enumerate(time_points):\n",
    "    ax = axes[idx]\n",
    "    wd_t = water_depth[:, t]\n",
    "    nx.draw(\n",
    "        G, pos, node_color=wd_t, node_size=50, edge_color='gray',\n",
    "        cmap=plt.cm.Blues, ax=ax, with_labels=False\n",
    "    )\n",
    "    ax.set_title(f\"Water Depth at t={t}\")\n",
    "plt.tight_layout()\n",
    "plt.show()"
   ]
  },
  {
   "cell_type": "code",
   "execution_count": null,
   "metadata": {},
   "outputs": [],
   "source": [
    "# Initialize quantum model and transparency engine\n",
    "num_features = sample.x.shape[1] + sample.dynamic.shape[2]\n",
    "quantum_circuit = QuantumFloodCircuit(num_features, sample.num_edges, active_edges=[])\n",
    "predictor = QGraphPredictor(quantum_circuit)\n",
    "qvism = QVISMTransparencyEngine(predictor)"
   ]
  },
  {
   "cell_type": "code",
   "execution_count": null,
   "metadata": {},
   "outputs": [],
   "source": [
    "# Generate transparency report\n",
    "time_step = 5\n",
    "report = qvism.generate_transparency_report(sample, time_step)\n",
    "print(\"Transparency Report Generated:\")\n",
    "print(report)"
   ]
  },
  {
   "cell_type": "code",
   "execution_count": null,
   "metadata": {},
   "outputs": [],
   "source": [
    "# Plot Hilbert space overlap\n",
    "hilbert_overlap = report[\"hilbert_space_overlap\"]\n",
    "plt.figure(figsize=(6, 4))\n",
    "plt.bar([\"Hilbert Overlap\"], [hilbert_overlap], color='purple')\n",
    "plt.title(\"Hilbert Space Overlap at t=5\")\n",
    "plt.ylabel(\"Overlap\")\n",
    "plt.ylim(0, 1)\n",
    "plt.show()"
   ]
  },
  {
   "cell_type": "code",
   "execution_count": null,
   "metadata": {},
   "outputs": [],
   "source": [
    "# Plot edge influence\n",
    "edge_influences = report[\"edge_influences\"]\n",
    "plt.figure(figsize=(8, 4))\n",
    "plt.bar(edge_influences.keys(), edge_influences.values(), color='teal')\n",
    "plt.title(\"Edge Influence at t=5\")\n",
    "plt.xlabel(\"Edge Index\")\n",
    "plt.ylabel(\"Influence\")\n",
    "plt.show()"
   ]
  },
  {
   "cell_type": "code",
   "execution_count": null,
   "metadata": {},
   "outputs": [],
   "source": [
    "\n",
    "# Plot node sensitivity\n",
    "node_sensitivities = report[\"node_sensitivities\"]\n",
    "plt.figure(figsize=(8, 4))\n",
    "plt.bar(node_sensitivities.keys(), node_sensitivities.values(), color='orange')\n",
    "plt.title(\"Node Sensitivity at t=5\")\n",
    "plt.xlabel(\"Node Index\")\n",
    "plt.ylabel(\"Sensitivity\")\n",
    "plt.show()"
   ]
  },
  {
   "cell_type": "code",
   "execution_count": null,
   "metadata": {},
   "outputs": [],
   "source": [
    "# Print summary\n",
    "print(\"Transparency Report Summary:\")\n",
    "print(f\"Time Step: {report['timestamp']}\")\n",
    "print(f\"Average Flood Risk: {report['average_flood_risk']:.4f}\")\n",
    "print(f\"Risk Level: {report['risk_level']}\")\n",
    "print(f\"Active Edges: {report['active_edges']}\")\n",
    "print(f\"Hilbert Space Overlap: {report['hilbert_space_overlap']:.4f}\")"
   ]
  }
 ],
 "metadata": {
  "kernelspec": {
   "display_name": "base",
   "language": "python",
   "name": "python3"
  },
  "language_info": {
   "codemirror_mode": {
    "name": "ipython",
    "version": 3
   },
   "file_extension": ".py",
   "mimetype": "text/x-python",
   "name": "python",
   "nbconvert_exporter": "python",
   "pygments_lexer": "ipython3",
   "version": "3.11.7"
  }
 },
 "nbformat": 4,
 "nbformat_minor": 2
}
